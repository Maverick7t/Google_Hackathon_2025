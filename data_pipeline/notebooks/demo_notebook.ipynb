{
 "cells": [
  {
   "cell_type": "markdown",
   "id": "31f9cc95",
   "metadata": {},
   "source": [
    "# DevInsight Demo Notebook\n",
    "## Exploring GitHub Analytics with BigQuery and AI\n",
    "\n",
    "This notebook demonstrates:\n",
    "- Querying GitHub data from BigQuery\n",
    "- Analyzing issues, commits, and PRs\n",
    "- Testing AI-powered insights"
   ]
  },
  {
   "cell_type": "code",
   "execution_count": null,
   "id": "0156eed1",
   "metadata": {},
   "outputs": [],
   "source": [
    "# Install required packages\n",
    "!pip install google-cloud-bigquery pandas matplotlib seaborn"
   ]
  },
  {
   "cell_type": "code",
   "execution_count": null,
   "id": "8bea1ce2",
   "metadata": {},
   "outputs": [],
   "source": [
    "import os\n",
    "from google.cloud import bigquery\n",
    "import pandas as pd\n",
    "import matplotlib.pyplot as plt\n",
    "import seaborn as sns\n",
    "\n",
    "# Set up BigQuery client\n",
    "project_id = os.getenv('GCP_PROJECT_ID', 'your-project-id')\n",
    "client = bigquery.Client(project=project_id)\n",
    "dataset_id = 'github_analytics'\n",
    "\n",
    "print(f\"Connected to project: {project_id}\")"
   ]
  },
  {
   "cell_type": "markdown",
   "id": "b46c09ae",
   "metadata": {},
   "source": [
    "## 1. Query Recent Issues"
   ]
  },
  {
   "cell_type": "code",
   "execution_count": null,
   "id": "9ee67308",
   "metadata": {},
   "outputs": [],
   "source": [
    "query = f\"\"\"\n",
    "SELECT \n",
    "    number,\n",
    "    title,\n",
    "    state,\n",
    "    created_at,\n",
    "    labels\n",
    "FROM `{project_id}.{dataset_id}.issues`\n",
    "WHERE created_at >= TIMESTAMP_SUB(CURRENT_TIMESTAMP(), INTERVAL 7 DAY)\n",
    "ORDER BY created_at DESC\n",
    "LIMIT 20\n",
    "\"\"\"\n",
    "\n",
    "df_issues = client.query(query).to_dataframe()\n",
    "df_issues.head()"
   ]
  },
  {
   "cell_type": "markdown",
   "id": "4b2bfd3d",
   "metadata": {},
   "source": [
    "## 2. Issue State Distribution"
   ]
  },
  {
   "cell_type": "code",
   "execution_count": null,
   "id": "c2d878ed",
   "metadata": {},
   "outputs": [],
   "source": [
    "query = f\"\"\"\n",
    "SELECT \n",
    "    state,\n",
    "    COUNT(*) as count\n",
    "FROM `{project_id}.{dataset_id}.issues`\n",
    "GROUP BY state\n",
    "\"\"\"\n",
    "\n",
    "df_states = client.query(query).to_dataframe()\n",
    "\n",
    "plt.figure(figsize=(8, 6))\n",
    "plt.pie(df_states['count'], labels=df_states['state'], autopct='%1.1f%%')\n",
    "plt.title('Issue State Distribution')\n",
    "plt.show()"
   ]
  },
  {
   "cell_type": "markdown",
   "id": "59acb3fa",
   "metadata": {},
   "source": [
    "## 3. Commit Activity Over Time"
   ]
  },
  {
   "cell_type": "code",
   "execution_count": null,
   "id": "c7e539f0",
   "metadata": {},
   "outputs": [],
   "source": [
    "query = f\"\"\"\n",
    "SELECT \n",
    "    DATE(author_date) as date,\n",
    "    COUNT(*) as commits\n",
    "FROM `{project_id}.{dataset_id}.commits`\n",
    "WHERE author_date >= TIMESTAMP_SUB(CURRENT_TIMESTAMP(), INTERVAL 30 DAY)\n",
    "GROUP BY date\n",
    "ORDER BY date\n",
    "\"\"\"\n",
    "\n",
    "df_commits = client.query(query).to_dataframe()\n",
    "\n",
    "plt.figure(figsize=(12, 6))\n",
    "plt.plot(df_commits['date'], df_commits['commits'], marker='o')\n",
    "plt.xlabel('Date')\n",
    "plt.ylabel('Number of Commits')\n",
    "plt.title('Commit Activity (Last 30 Days)')\n",
    "plt.xticks(rotation=45)\n",
    "plt.tight_layout()\n",
    "plt.show()"
   ]
  },
  {
   "cell_type": "markdown",
   "id": "40262d4e",
   "metadata": {},
   "source": [
    "## 4. Test AI Agent"
   ]
  },
  {
   "cell_type": "code",
   "execution_count": null,
   "id": "e2fe5214",
   "metadata": {},
   "outputs": [],
   "source": [
    "import sys\n",
    "sys.path.append('../backend')\n",
    "\n",
    "from src.ai_agent import AIAgent\n",
    "from src.elasticsearch_indexer import ElasticsearchIndexer\n",
    "\n",
    "# Initialize AI agent\n",
    "agent = AIAgent(project_id=project_id)\n",
    "\n",
    "# Test query\n",
    "question = \"What are the main issues affecting the project?\"\n",
    "response = agent.answer_query(question)\n",
    "\n",
    "print(f\"Question: {question}\")\n",
    "print(f\"\\nAnswer: {response['answer']}\")\n",
    "print(f\"\\nConfidence: {response['confidence']}\")"
   ]
  }
 ],
 "metadata": {
  "language_info": {
   "name": "python"
  }
 },
 "nbformat": 4,
 "nbformat_minor": 5
}
